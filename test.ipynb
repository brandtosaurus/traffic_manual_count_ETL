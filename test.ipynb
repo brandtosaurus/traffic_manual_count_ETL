{
 "cells": [
  {
   "cell_type": "code",
   "execution_count": 1,
   "metadata": {},
   "outputs": [],
   "source": [
    "import pandas as pd\n",
    "import numpy as np\n",
    "import os\n",
    "import uuid\n",
    "from tkinter import filedialog\n",
    "from tkinter import *\n",
    "from typing import List\n",
    "\n",
    "from scipy.stats import ks_2samp\n",
    "\n",
    "pd.set_option('display.max_rows', None)\n",
    "\n",
    "import config\n",
    "\n",
    "DROP_IF = [\"DO NOT FILL IN\", \"DO NOT F\"]\n",
    "PATH = r\"C:\\Users\\MB2705851\\OneDrive - Surbana Jurong Private Limited\\Manuals & Guidelines\\Traffic\\Manual count import templates\"\n",
    "\n",
    "def getfiles(path: str) -> List[str]:\n",
    "    print(\"COLLECTING FILES......\")\n",
    "    src = []\n",
    "    for root, dirs, files in os.walk(path):\n",
    "        for name in files:\n",
    "            if name.endswith(\".xlsx\"):\n",
    "                p = os.path.join(root, name)\n",
    "                src.append(p)\n",
    "    src = list(set(src))\n",
    "    return src"
   ]
  },
  {
   "cell_type": "code",
   "execution_count": 2,
   "metadata": {},
   "outputs": [
    {
     "name": "stdout",
     "output_type": "stream",
     "text": [
      "COLLECTING FILES......\n"
     ]
    }
   ],
   "source": [
    "\n",
    "for file in getfiles(PATH):\n",
    "\n",
    "    xls = pd.ExcelFile(file)\n",
    "\n",
    "    header_out_df = pd.DataFrame()\n",
    "    data_out_df = pd.DataFrame()\n",
    "\n",
    "    for sheet in xls.sheet_names:\n",
    "        df = pd.read_excel(file, sheet_name=sheet, header=None)\n",
    "\n",
    "        #  df.LOC[ROW, COLUMN] -- REMEMBER THIS\n",
    "        header = {\n",
    "            \"header_id\": [str(uuid.uuid4())],\n",
    "            \"counted_by\": [\"TCS Trust\"],\n",
    "            \"tc_station_name\": [str(df.loc[4, 8])+str(df.loc[5, 8])],\n",
    "            \"count_type_id\": 3,\n",
    "            \"count_date_start\": [df.loc[2, 1]],\n",
    "            \"count_weather\": [df.loc[1, 2]],\n",
    "            \"h_station_date\": [str(df.loc[4, 8])+str(df.loc[5, 8]) + \"_\" + str(df.loc[2, 1])],\n",
    "            \"growth_rate_use\": [str(\"y\")],\n",
    "            \"count_interval\": [60],\n",
    "            \"latitude\": [df.loc[14, 8]],\n",
    "            \"longitude\": [df.loc[15, 8]],\n",
    "            \"kilometer_dist\": [df.loc[8, 8]],\n",
    "            \"road_link\": [df.loc[6, 8]],\n",
    "            \"type_of_count\": [df.loc[13, 8]],\n",
    "            \"description\": [\"Between \" + str(df.loc[9, 8]) + \" and \" + str(df.loc[10, 8])],\n",
    "            \"no_of_hours\": [df.loc[24, 8]],\n",
    "            \"no_days\": [df.loc[25, 8]]\n",
    "        }\n",
    "        header_temp = pd.DataFrame(header)\n",
    "        header_out_df = header_out_df.append(header_temp)\n",
    "\n",
    "        data = df.loc[4:29, 0:5]\n",
    "        data = data[(data[0] != \"Subtotal A\") & (data[0] != \"Subtotal B\")]\n",
    "        data = data.dropna(thresh=5)\n",
    "        data.rename(\n",
    "            columns={\n",
    "                0: \"count_hour\",\n",
    "                1: \"light\",\n",
    "                2: \"heavy\",\n",
    "                3: \"bus\",\n",
    "                4: \"taxi\",\n",
    "                5: \"total\",\n",
    "            },\n",
    "            inplace=True,\n",
    "        )\n",
    "        data[\"count_hour\"] = data[\"count_hour\"].str[:2]\n",
    "        data[\"header_id\"] = header_temp.loc[0, \"header_id\"]\n",
    "\n",
    "        data[\"count_hour\"] = pd.to_datetime(\n",
    "            data[\"count_hour\"].str[:8], format=\"%H\"\n",
    "        ).dt.time\n",
    "\n",
    "        hour = data[\"count_hour\"].astype(str)\n",
    "        data[\"count_time\"] = header_temp.loc[0, \"count_date_start\"]\n",
    "        data[\"count_time\"] = pd.to_datetime(\n",
    "            data[\"count_time\"], format=\"%y/%m/%d\"\n",
    "        ) + pd.to_timedelta(hour)\n",
    "\n",
    "        data[\"header_date\"] = header_temp.loc[0, \"count_date_start\"]\n",
    "        data_out_df = data_out_df.append(data)\n"
   ]
  },
  {
   "cell_type": "code",
   "execution_count": 24,
   "metadata": {},
   "outputs": [
    {
     "ename": "ValueError",
     "evalue": "The truth value of a Series is ambiguous. Use a.empty, a.bool(), a.item(), a.any() or a.all().",
     "output_type": "error",
     "traceback": [
      "\u001b[1;31m---------------------------------------------------------------------------\u001b[0m",
      "\u001b[1;31mValueError\u001b[0m                                Traceback (most recent call last)",
      "\u001b[1;32m<ipython-input-24-dfbf727fedfe>\u001b[0m in \u001b[0;36m<module>\u001b[1;34m\u001b[0m\n\u001b[0;32m      2\u001b[0m \u001b[0ma\u001b[0m \u001b[1;33m=\u001b[0m \u001b[0mdata_out_df\u001b[0m\u001b[1;33m[\u001b[0m\u001b[1;34m'total'\u001b[0m\u001b[1;33m]\u001b[0m\u001b[1;33m\u001b[0m\u001b[1;33m\u001b[0m\u001b[0m\n\u001b[0;32m      3\u001b[0m \u001b[0mnormalized_df\u001b[0m \u001b[1;33m=\u001b[0m \u001b[1;33m(\u001b[0m\u001b[0ma\u001b[0m\u001b[1;33m-\u001b[0m\u001b[0ma\u001b[0m\u001b[1;33m.\u001b[0m\u001b[0mmin\u001b[0m\u001b[1;33m(\u001b[0m\u001b[1;33m)\u001b[0m\u001b[1;33m)\u001b[0m\u001b[1;33m/\u001b[0m\u001b[1;33m(\u001b[0m\u001b[0ma\u001b[0m\u001b[1;33m.\u001b[0m\u001b[0mmax\u001b[0m\u001b[1;33m(\u001b[0m\u001b[1;33m)\u001b[0m\u001b[1;33m-\u001b[0m\u001b[0ma\u001b[0m\u001b[1;33m.\u001b[0m\u001b[0mmin\u001b[0m\u001b[1;33m(\u001b[0m\u001b[1;33m)\u001b[0m\u001b[1;33m)\u001b[0m\u001b[1;33m\u001b[0m\u001b[1;33m\u001b[0m\u001b[0m\n\u001b[1;32m----> 4\u001b[1;33m \u001b[1;32mif\u001b[0m \u001b[1;33m(\u001b[0m\u001b[0mnormalized_df\u001b[0m\u001b[1;33m.\u001b[0m\u001b[0miloc\u001b[0m\u001b[1;33m[\u001b[0m\u001b[1;33m[\u001b[0m\u001b[1;36m0\u001b[0m\u001b[1;33m]\u001b[0m\u001b[1;33m]\u001b[0m \u001b[1;33m==\u001b[0m \u001b[1;36m0.0\u001b[0m\u001b[1;33m)\u001b[0m \u001b[1;33m&\u001b[0m \u001b[1;33m(\u001b[0m\u001b[0mnormalized_df\u001b[0m\u001b[1;33m.\u001b[0m\u001b[0miloc\u001b[0m\u001b[1;33m[\u001b[0m\u001b[1;33m[\u001b[0m\u001b[1;33m-\u001b[0m\u001b[1;36m1\u001b[0m\u001b[1;33m]\u001b[0m\u001b[1;33m]\u001b[0m \u001b[1;33m==\u001b[0m \u001b[1;36m1\u001b[0m\u001b[1;33m)\u001b[0m\u001b[1;33m:\u001b[0m\u001b[1;33m\u001b[0m\u001b[1;33m\u001b[0m\u001b[0m\n\u001b[0m\u001b[0;32m      5\u001b[0m     \u001b[0mprint\u001b[0m\u001b[1;33m(\u001b[0m\u001b[1;32mTrue\u001b[0m\u001b[1;33m)\u001b[0m\u001b[1;33m\u001b[0m\u001b[1;33m\u001b[0m\u001b[0m\n\u001b[0;32m      6\u001b[0m \u001b[1;32melse\u001b[0m\u001b[1;33m:\u001b[0m\u001b[1;33m\u001b[0m\u001b[1;33m\u001b[0m\u001b[0m\n",
      "\u001b[1;32m~\\Anaconda3\\lib\\site-packages\\pandas\\core\\generic.py\u001b[0m in \u001b[0;36m__nonzero__\u001b[1;34m(self)\u001b[0m\n\u001b[0;32m   1441\u001b[0m     \u001b[1;32mdef\u001b[0m \u001b[0m__nonzero__\u001b[0m\u001b[1;33m(\u001b[0m\u001b[0mself\u001b[0m\u001b[1;33m)\u001b[0m\u001b[1;33m:\u001b[0m\u001b[1;33m\u001b[0m\u001b[1;33m\u001b[0m\u001b[0m\n\u001b[0;32m   1442\u001b[0m         raise ValueError(\n\u001b[1;32m-> 1443\u001b[1;33m             \u001b[1;34mf\"The truth value of a {type(self).__name__} is ambiguous. \"\u001b[0m\u001b[1;33m\u001b[0m\u001b[1;33m\u001b[0m\u001b[0m\n\u001b[0m\u001b[0;32m   1444\u001b[0m             \u001b[1;34m\"Use a.empty, a.bool(), a.item(), a.any() or a.all().\"\u001b[0m\u001b[1;33m\u001b[0m\u001b[1;33m\u001b[0m\u001b[0m\n\u001b[0;32m   1445\u001b[0m         )\n",
      "\u001b[1;31mValueError\u001b[0m: The truth value of a Series is ambiguous. Use a.empty, a.bool(), a.item(), a.any() or a.all()."
     ]
    }
   ],
   "source": [
    "# def check_if_cumulative_count(df)\n",
    "a = data_out_df['total']\n",
    "normalized_df = (a-a.min())/(a.max()-a.min())\n",
    "if (normalized_df.head(1).all() == 0.0) & (normalized_df.tail(1).all() == 1):\n",
    "    print(True)\n",
    "else:\n",
    "    print(False)\n",
    "\n",
    "s = pd.DataFrame(config.KS_SAMPLE)\n",
    "normalized_sample = (s-s.min())/(s.max()-s.min())\n",
    "normalized_sample = np.array(normalized_sample[0])\n",
    "\n",
    "\n",
    "# ks_2samp(normalized_sample, normalized_df)"
   ]
  },
  {
   "cell_type": "code",
   "execution_count": 4,
   "metadata": {},
   "outputs": [],
   "source": [
    "# a = np.array(data_out_df['total'])\n",
    "# a2 = np.linalg.norm(a)\n",
    "# a = a/a2\n",
    "\n",
    "# s3 = np.array(config.KS_SAMPLE2)\n",
    "# ss3 = np.linalg.norm(s3)\n",
    "# s3 = s3/ss3\n",
    "\n",
    "# samp = np.array(config.KS_SAMPLE)\n",
    "# samp2 = np.linalg.norm(samp)\n",
    "# samp = samp/samp2\n",
    "# print(a)\n",
    "# print(samp)\n",
    "# ks_2samp(s3, a)"
   ]
  },
  {
   "cell_type": "code",
   "execution_count": null,
   "metadata": {},
   "outputs": [],
   "source": []
  }
 ],
 "metadata": {
  "interpreter": {
   "hash": "48e8faae11f1a18253e2c73fe4485da258b4f904886d7598974ac2b6626bec8a"
  },
  "kernelspec": {
   "display_name": "Python 3.7.10 64-bit ('base': conda)",
   "name": "python3"
  },
  "language_info": {
   "codemirror_mode": {
    "name": "ipython",
    "version": 3
   },
   "file_extension": ".py",
   "mimetype": "text/x-python",
   "name": "python",
   "nbconvert_exporter": "python",
   "pygments_lexer": "ipython3",
   "version": "3.7.10"
  },
  "orig_nbformat": 4
 },
 "nbformat": 4,
 "nbformat_minor": 2
}
